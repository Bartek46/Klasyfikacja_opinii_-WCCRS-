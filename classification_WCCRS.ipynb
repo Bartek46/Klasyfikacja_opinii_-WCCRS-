{
 "cells": [
  {
   "cell_type": "markdown",
   "metadata": {},
   "source": [
    "Dane: Wroclaw Corpus of Consumer Reviews Sentiment (WCCRS) https://clarin-pl.eu/dspace/handle/11321/700"
   ]
  },
  {
   "cell_type": "markdown",
   "metadata": {},
   "source": [
    "### 1. Przygotowanie danych"
   ]
  },
  {
   "cell_type": "code",
   "execution_count": 2,
   "metadata": {},
   "outputs": [],
   "source": [
    "import os"
   ]
  },
  {
   "cell_type": "code",
   "execution_count": 3,
   "metadata": {},
   "outputs": [],
   "source": [
    "# Wczytanie wybranych plików\n",
    "files = os.listdir('WCCRS/text')\n",
    "texts = []\n",
    "\n",
    "for file in files:\n",
    "    with open('WCCRS/text/' + file, 'r', encoding='utf-8') as file:\n",
    "        texts.append(file.readlines())"
   ]
  },
  {
   "cell_type": "code",
   "execution_count": 4,
   "metadata": {},
   "outputs": [
    {
     "name": "stdout",
     "output_type": "stream",
     "text": [
      "0 - hotels.text.dev.txt - 317\n",
      "1 - hotels.text.test.txt - 317\n",
      "2 - hotels.text.train.txt - 2535\n",
      "3 - medicine.text.dev.txt - 331\n",
      "4 - medicine.text.test.txt - 331\n",
      "5 - medicine.text.train.txt - 2651\n",
      "6 - products.text.dev.txt - 99\n",
      "7 - products.text.test.txt - 99\n",
      "8 - products.text.train.txt - 791\n",
      "9 - reviews.text.dev.txt - 99\n",
      "10 - reviews.text.test.txt - 99\n",
      "11 - reviews.text.train.txt - 793\n"
     ]
    }
   ],
   "source": [
    "# Wyświetlenie nazw wczytanych plików wraz z liczbą opinii w pliku\n",
    "for i, text in enumerate(texts):\n",
    "    print(f\"{i} - {files[i]} - {len(text)}\")"
   ]
  },
  {
   "cell_type": "code",
   "execution_count": 5,
   "metadata": {},
   "outputs": [],
   "source": [
    "# Łączenie danych w zbiory\n",
    "# Dane przeznaczone na walidację łączę z testowymi\n",
    "X_test  = texts[0] + texts[1] + texts[3] + texts[4] + texts[6] + texts[7] + texts[9] + texts[10]\n",
    "X_train = texts[2] + texts[5] + texts[8] + texts[11]\n",
    "\n",
    "# Kodowanie\n",
    "# 0 - Hotele\n",
    "# 1 - Medycyna\n",
    "# 2 - Produkty\n",
    "# 3 - Uniwersytet\n",
    "lables = ['Hotele', 'Medycyna', 'Produkty', 'Uniwersytet']\n",
    "\n",
    "y_test  = [0] * (len(texts[0]) + len(texts[1])) +\\\n",
    "          [1] * (len(texts[3]) + len(texts[4])) +\\\n",
    "          [2] * (len(texts[6]) + len(texts[7])) +\\\n",
    "          [3] * (len(texts[9]) + len(texts[10]))\n",
    "\n",
    "y_train = [0] * len(texts[2]) +\\\n",
    "          [1] * len(texts[5]) +\\\n",
    "          [2] * len(texts[8]) +\\\n",
    "          [3] * len(texts[11])"
   ]
  },
  {
   "cell_type": "code",
   "execution_count": 6,
   "metadata": {},
   "outputs": [
    {
     "name": "stdout",
     "output_type": "stream",
     "text": [
      "1692\n",
      "6770\n"
     ]
    }
   ],
   "source": [
    "# Liczebność zbiorów\n",
    "print(len(y_test))\n",
    "print(len(y_train))"
   ]
  },
  {
   "cell_type": "markdown",
   "metadata": {},
   "source": [
    "### 2. Eksploracja danych"
   ]
  },
  {
   "cell_type": "code",
   "execution_count": 7,
   "metadata": {},
   "outputs": [],
   "source": [
    "from collections import Counter\n",
    "import spacy\n",
    "\n",
    "# Wczytuje polski model językowy SpaCy\n",
    "nlp = spacy.load(\"pl_core_news_sm\")"
   ]
  },
  {
   "cell_type": "code",
   "execution_count": 8,
   "metadata": {},
   "outputs": [],
   "source": [
    "def preprocessing(sentences, mode='words'):\n",
    "    \"\"\"\n",
    "    Przetwarza dane wejściowe (opinie) poprzez lematyzację, usunięcie znaków interpunkcyjnych oraz stopwordsów\n",
    "    \n",
    "    Parametry\n",
    "    ----------\n",
    "    sentences : str\n",
    "        Zdanie zawierające opinię\n",
    "    mode : {'words', 'sentence'}\n",
    "        Określa w jakiej formie zwrócić przetworzone dane\n",
    "\n",
    "    Zwraca\n",
    "    -------\n",
    "    y_test_pred : str or list\n",
    "        Zwraca zdanie (str) albo listę wyrazów (lsit)\n",
    "    \"\"\"\n",
    "    # Usuwa końcówkę '__label__meta...' z każdej opinii\n",
    "    pos = sentences.find(\"__label__meta\")\n",
    "    sentences = sentences[:pos]\n",
    "\n",
    "    # Przetwórz zdanie w obiekt SpaCy\n",
    "    doc = nlp(sentences)\n",
    "\n",
    "    # Lematyzacja, zamiana na małe litery, usunięcie znaków interpunkcyjnych i stopwordsów\n",
    "    text = [token.lemma_.lower() for token in doc if not token.is_punct and not token.is_stop]   \n",
    "\n",
    "    if mode == 'words':\n",
    "        # Zwraca listę słów\n",
    "        return text\n",
    "    elif mode == 'sentence':\n",
    "        # Łączy słowa w jedno zdanie\n",
    "        return ' '.join(text)"
   ]
  },
  {
   "cell_type": "code",
   "execution_count": 9,
   "metadata": {},
   "outputs": [
    {
     "name": "stdout",
     "output_type": "stream",
     "text": [
      "3169\n",
      "3313\n",
      "989\n",
      "991\n"
     ]
    }
   ],
   "source": [
    "# Łączy opinie według klasy\n",
    "Hotele = texts[0] + texts[1] + texts[2]\n",
    "Medycyna = texts[3] + texts[4] + texts[5]\n",
    "Produkty = texts[6] + texts[7] + texts[8]\n",
    "Uniwersytet = texts[9] + texts[10] + texts[11]\n",
    "\n",
    "# Liczba opinii w podziale na klasę\n",
    "print(len(Hotele))\n",
    "print(len(Medycyna))\n",
    "print(len(Produkty))\n",
    "print(len(Uniwersytet))"
   ]
  },
  {
   "cell_type": "code",
   "execution_count": 10,
   "metadata": {},
   "outputs": [],
   "source": [
    "# Przetworzenie danych\n",
    "processed_Hotele = [x for row in Hotele for x in preprocessing(row, 'words')]\n",
    "processed_Medycyna = [x for row in Medycyna for x in preprocessing(row, 'words')]\n",
    "processed_Produkty = [x for row in Produkty for x in preprocessing(row, 'words')]\n",
    "processed_Uniwersytet = [x for row in Uniwersytet for x in preprocessing(row, 'words')]\n",
    "# 3 min"
   ]
  },
  {
   "cell_type": "code",
   "execution_count": 11,
   "metadata": {},
   "outputs": [],
   "source": [
    "# Zlicza występowanie słów\n",
    "Hotele_counter = Counter(processed_Hotele)\n",
    "Medycyna_counter = Counter(processed_Medycyna)\n",
    "Produkty_counter = Counter(processed_Produkty)\n",
    "Uniwersytet_counter = Counter(processed_Uniwersytet)"
   ]
  },
  {
   "cell_type": "code",
   "execution_count": null,
   "metadata": {},
   "outputs": [],
   "source": [
    "# Top10 słów pod względem częstości\n",
    "Hotele_counter.most_common(10)"
   ]
  },
  {
   "cell_type": "markdown",
   "metadata": {},
   "source": [
    "### 3. Preprocessing"
   ]
  },
  {
   "cell_type": "code",
   "execution_count": 13,
   "metadata": {},
   "outputs": [],
   "source": [
    "import numpy as np\n",
    "import matplotlib.pyplot as plt\n",
    "from sklearn.feature_extraction.text import CountVectorizer, TfidfVectorizer"
   ]
  },
  {
   "cell_type": "code",
   "execution_count": 14,
   "metadata": {},
   "outputs": [],
   "source": [
    "# Przetworzenie zbiorów\n",
    "X_test_processed = [preprocessing(row, 'sentence') for row in X_test]\n",
    "X_train_processed = [preprocessing(row, 'sentence') for row in X_train]\n",
    "# 3 min"
   ]
  },
  {
   "cell_type": "code",
   "execution_count": 15,
   "metadata": {},
   "outputs": [
    {
     "data": {
      "image/png": "[encoded data removed]",
      "text/plain": [
       "<Figure size 1200x400 with 2 Axes>"
      ]
     },
     "metadata": {},
     "output_type": "display_data"
    }
   ],
   "source": [
    "# lista z liczbą wyrazów w dokumencie PRZED preprocessingiem\n",
    "len_sentences = [(sentences.count(' ') + 1) for sentences in X_test] + [(sentences.count(' ') + 1) for sentences in X_train]\n",
    "\n",
    "mean = np.mean(len_sentences)\n",
    "std = np.std(len_sentences)\n",
    "maxx = np.max(len_sentences)\n",
    "\n",
    "plt.figure(figsize=(12, 4))\n",
    "\n",
    "ax0 = plt.subplot(121)\n",
    "_, bins, _ = ax0.hist(len_sentences, bins=50, color='#004b96')\n",
    "ax0.axvline(x = mean, color='#f9011b', linestyle='-', linewidth=2, label=f\"Średnia: {round(mean,2)}\")\n",
    "ax0.axvline(x = mean-std, color='#f9011b', linestyle='--', linewidth=1, label=f\"Std: {round(std,2)}\")\n",
    "ax0.axvline(x = maxx, color='#f9011b', linestyle='-', linewidth=0, label=f\"Max: {maxx}\")\n",
    "ax0.axvline(x = mean+std, color='#f9011b', linestyle='--', linewidth=1)\n",
    "ax0.set_title(\"Średnia liczba wyrazów w dokumencie,\\nprzed preprocessingiem\")\n",
    "ax0.set_ylabel(\"Częstość\")\n",
    "ax0.set_xlabel('Liczba wyrazów')\n",
    "ax0.set_ylim((0, 2500))\n",
    "ax0.set_xlim((0, 600))\n",
    "ax0.legend(loc=1)\n",
    "\n",
    "# lista z liczbą wyrazów w dokumencie PO preprocessingu\n",
    "len_sentences_processed = [(sentences.count(' ') + 1) for sentences in X_test_processed] + [(sentences.count(' ') + 1) for sentences in X_train_processed]\n",
    "\n",
    "mean = np.mean(len_sentences_processed)\n",
    "std = np.std(len_sentences_processed)\n",
    "maxx = np.max(len_sentences_processed)\n",
    "\n",
    "ax1 = plt.subplot(122)\n",
    "ax1.hist(len_sentences_processed, bins=bins, color='#004b96')\n",
    "ax1.axvline(x = mean, color='#f9011b', linestyle='-', linewidth=2, label=f\"Średnia: {round(mean,2)}\")\n",
    "ax1.axvline(x = mean-std, color='#f9011b', linestyle='--', linewidth=1, label=f\"Std: {round(std,2)}\")\n",
    "ax1.axvline(x = maxx, color='#f9011b', linestyle='-', linewidth=0, label=f\"Max: {maxx}\")\n",
    "ax1.axvline(x = mean+std, color='#f9011b', linestyle='--', linewidth=1)\n",
    "ax1.set_title(\"Średnia liczba wyrazów w dokumencie,\\npo preprocessingu\")\n",
    "ax1.set_ylabel(\"Częstość\")\n",
    "ax1.set_xlabel('Liczba wyrazów')\n",
    "ax1.set_ylim((0, 2500))\n",
    "ax1.set_xlim((0, 600))\n",
    "ax1.legend(loc=1)\n",
    "\n",
    "plt.show()"
   ]
  },
  {
   "cell_type": "code",
   "execution_count": 16,
   "metadata": {},
   "outputs": [],
   "source": [
    "# Użycie CountVectorizer do przekształcenia tekstu na macierz cech\n",
    "# vectorizer = CountVectorizer()\n",
    "\n",
    "# Użycie TfidfVectorizer do przekształcenia tekstu na macierz cech\n",
    "vectorizer = TfidfVectorizer()\n",
    "\n",
    "# Przekształcenie danych treningowych\n",
    "X_train_vectorized = vectorizer.fit_transform(X_train_processed)\n",
    "\n",
    "# Przekształcenie danych testowych\n",
    "X_test_vectorized = vectorizer.transform(X_test_processed)"
   ]
  },
  {
   "cell_type": "code",
   "execution_count": 17,
   "metadata": {},
   "outputs": [
    {
     "data": {
      "text/plain": [
       "<6770x49774 sparse matrix of type '<class 'numpy.float64'>'\n",
       "\twith 377902 stored elements in Compressed Sparse Row format>"
      ]
     },
     "execution_count": 17,
     "metadata": {},
     "output_type": "execute_result"
    }
   ],
   "source": [
    "X_train_vectorized"
   ]
  },
  {
   "cell_type": "markdown",
   "metadata": {},
   "source": [
    "### 4. Modele"
   ]
  },
  {
   "cell_type": "code",
   "execution_count": 30,
   "metadata": {},
   "outputs": [],
   "source": [
    "from sklearn.linear_model import LogisticRegression, RidgeClassifier\n",
    "from sklearn.neighbors import KNeighborsClassifier\n",
    "from sklearn.naive_bayes import MultinomialNB\n",
    "from sklearn.svm import SVC\n",
    "from sklearn.model_selection import GridSearchCV\n",
    "from sklearn.metrics import f1_score, classification_report"
   ]
  },
  {
   "cell_type": "code",
   "execution_count": 31,
   "metadata": {},
   "outputs": [],
   "source": [
    "def predict_metrics(model, X_train_vectorized, y_train, X_test_vectorized, y_test):\n",
    "    \"\"\"\n",
    "    Oblicza predykcję i wyświetla metryki\n",
    "    \n",
    "    Parametry\n",
    "    ----------\n",
    "    model : estimator object\n",
    "        Obiekt modelu\n",
    "    X_train_vectorized : csr_matrix\n",
    "        Macierz cech zbioru treningowego\n",
    "    y_train : list\n",
    "        Etykiety zbioru treningowego\n",
    "    X_test_vectorized : csr_matrix\n",
    "        Macierz cech zbioru testowego\n",
    "    y_test : list\n",
    "        Etykiety zbioru testowego\n",
    "\n",
    "    Zwraca\n",
    "    -------\n",
    "    y_test_pred : list\n",
    "        Listę predykcji na zbiorze testowym\n",
    "    f1_weighted : float\n",
    "        Wartość F1-Score (weighted) na zbiorze testowym\n",
    "    \"\"\"\n",
    "    # Predykcja na danych uczących\n",
    "    y_train_pred = model.predict(X_train_vectorized)\n",
    "    f1_weighted = f1_score(y_train, y_train_pred, average='weighted')\n",
    "    print(f\"F1-Score (weighted) na uczącym: {f1_weighted:.4f}\")\n",
    "\n",
    "    # Predykcja na danych testowych\n",
    "    y_test_pred = model.predict(X_test_vectorized)\n",
    "    f1_weighted = f1_score(y_test, y_test_pred, average='weighted')\n",
    "    print(f\"F1-Score (weighted) na testowym: {f1_weighted:.4f}\")\n",
    "\n",
    "    report = classification_report(y_test, y_test_pred, digits=3)\n",
    "    print(\"Classification Report:\\n\", report)\n",
    "\n",
    "    # Zwraca predykcję i wynik F1 score\n",
    "    return y_test_pred, f1_weighted"
   ]
  },
  {
   "cell_type": "code",
   "execution_count": 32,
   "metadata": {},
   "outputs": [],
   "source": [
    "def grid_and_fit(model, param_grid, X_train_vectorized, y_train):\n",
    "    \"\"\"\n",
    "    Przeprowadza przeszukiwanie siatki hiperparametrów za pomocą GridSearchCV oraz trenuje najlepszy model\n",
    "    \n",
    "    Parametry\n",
    "    ----------\n",
    "    model : estimator object\n",
    "        Obiekt modelu\n",
    "    param_grid : dict\n",
    "        Słownik z parametrami\n",
    "    \n",
    "    Zwraca\n",
    "    -------\n",
    "    best_model : estimator object\n",
    "        Najlepszy model znaleziony podczas przeszukiwania siatki, wytrenowany na pełnym zbiorze treningowym\n",
    "    \"\"\"\n",
    "    # Wykorzystanie GridSearchCV do znalezienia najlepszych parametrów\n",
    "    grid_search = GridSearchCV(model, param_grid, cv=5, scoring='f1_weighted', verbose=2, n_jobs=-1)\n",
    "    grid_search.fit(X_train_vectorized, y_train)\n",
    "\n",
    "    # Najlepsze parametry\n",
    "    best_params = grid_search.best_params_\n",
    "    print(f\"Najlepsze parametry: {best_params}\")\n",
    "\n",
    "    # Trenowanie najlepszego modelu logistycznej regresji\n",
    "    best_model = grid_search.best_estimator_\n",
    "    best_model.fit(X_train_vectorized, y_train)\n",
    "\n",
    "    return best_model"
   ]
  },
  {
   "cell_type": "markdown",
   "metadata": {},
   "source": [
    "#### 4.1. Naive Bayes"
   ]
  },
  {
   "cell_type": "code",
   "execution_count": 33,
   "metadata": {},
   "outputs": [
    {
     "name": "stdout",
     "output_type": "stream",
     "text": [
      "F1-Score (weighted) na uczącym: 0.8611\n",
      "F1-Score (weighted) na testowym: 0.8040\n",
      "Classification Report:\n",
      "               precision    recall  f1-score   support\n",
      "\n",
      "           0      0.838     0.989     0.907       634\n",
      "           1      0.826     0.995     0.903       662\n",
      "           2      1.000     0.086     0.158       198\n",
      "           3      1.000     0.652     0.789       198\n",
      "\n",
      "    accuracy                          0.846      1692\n",
      "   macro avg      0.916     0.680     0.689      1692\n",
      "weighted avg      0.871     0.846     0.804      1692\n",
      "\n"
     ]
    }
   ],
   "source": [
    "model_NB = MultinomialNB()\n",
    "model_NB.fit(X_train_vectorized, y_train)\n",
    "\n",
    "y_test_pred_NB, f1_weighted_NB = predict_metrics(model_NB, X_train_vectorized, y_train, X_test_vectorized, y_test)"
   ]
  },
  {
   "cell_type": "code",
   "execution_count": 34,
   "metadata": {},
   "outputs": [
    {
     "name": "stdout",
     "output_type": "stream",
     "text": [
      "Fitting 5 folds for each of 12 candidates, totalling 60 fits\n",
      "Najlepsze parametry: {'alpha': 0.1, 'fit_prior': False}\n",
      "F1-Score (weighted) na uczącym: 0.9991\n",
      "F1-Score (weighted) na testowym: 0.9820\n",
      "Classification Report:\n",
      "               precision    recall  f1-score   support\n",
      "\n",
      "           0      0.989     0.995     0.992       634\n",
      "           1      0.969     0.992     0.981       662\n",
      "           2      0.989     0.894     0.939       198\n",
      "           3      1.000     0.995     0.997       198\n",
      "\n",
      "    accuracy                          0.982      1692\n",
      "   macro avg      0.987     0.969     0.977      1692\n",
      "weighted avg      0.982     0.982     0.982      1692\n",
      "\n"
     ]
    }
   ],
   "source": [
    "# Szukamy najlepszego modelu przeszukując siatkę parametrów\n",
    "model_NB_best = MultinomialNB()\n",
    "param_grid_NB = {'alpha': [0.01, 0.05, 0.1, 0.5, 1, 2],  # Parametr wygładzania Laplace'a\n",
    "                 'fit_prior': [True, False]}  # Czy uwzględniać priorytety klas\n",
    "\n",
    "model_NB_best = grid_and_fit(model_NB_best, param_grid_NB, X_train_vectorized, y_train)\n",
    "y_test_pred_NB_best, f1_weighted_NB_best = predict_metrics(model_NB_best, X_train_vectorized, y_train, X_test_vectorized, y_test)"
   ]
  },
  {
   "cell_type": "markdown",
   "metadata": {},
   "source": [
    "#### 4.2. Logistic Regression"
   ]
  },
  {
   "cell_type": "code",
   "execution_count": 35,
   "metadata": {},
   "outputs": [
    {
     "name": "stdout",
     "output_type": "stream",
     "text": [
      "F1-Score (weighted) na uczącym: 0.9985\n",
      "F1-Score (weighted) na testowym: 0.9797\n",
      "Classification Report:\n",
      "               precision    recall  f1-score   support\n",
      "\n",
      "           0      0.992     0.994     0.993       634\n",
      "           1      0.958     0.998     0.978       662\n",
      "           2      1.000     0.904     0.950       198\n",
      "           3      1.000     0.949     0.974       198\n",
      "\n",
      "    accuracy                          0.980      1692\n",
      "   macro avg      0.988     0.961     0.974      1692\n",
      "weighted avg      0.981     0.980     0.980      1692\n",
      "\n"
     ]
    }
   ],
   "source": [
    "model_LR = LogisticRegression(max_iter=100)\n",
    "model_LR.fit(X_train_vectorized, y_train)\n",
    "\n",
    "y_test_pred_LR, f1_weighted_LR = predict_metrics(model_LR, X_train_vectorized, y_train, X_test_vectorized, y_test)"
   ]
  },
  {
   "cell_type": "code",
   "execution_count": 36,
   "metadata": {},
   "outputs": [
    {
     "name": "stdout",
     "output_type": "stream",
     "text": [
      "Fitting 5 folds for each of 24 candidates, totalling 120 fits\n"
     ]
    },
    {
     "name": "stderr",
     "output_type": "stream",
     "text": [
      "C:\\Users\\Bartek\\AppData\\Roaming\\Python\\Python39\\site-packages\\sklearn\\linear_model\\_sag.py:350: ConvergenceWarning: The max_iter was reached which means the coef_ did not converge\n",
      "  warnings.warn(\n"
     ]
    },
    {
     "name": "stdout",
     "output_type": "stream",
     "text": [
      "Najlepsze parametry: {'C': 100, 'penalty': 'l2', 'solver': 'saga'}\n",
      "F1-Score (weighted) na uczącym: 1.0000\n",
      "F1-Score (weighted) na testowym: 0.9911\n",
      "Classification Report:\n",
      "               precision    recall  f1-score   support\n",
      "\n",
      "           0      0.997     0.997     0.997       634\n",
      "           1      0.982     0.998     0.990       662\n",
      "           2      0.995     0.965     0.979       198\n",
      "           3      1.000     0.975     0.987       198\n",
      "\n",
      "    accuracy                          0.991      1692\n",
      "   macro avg      0.993     0.984     0.988      1692\n",
      "weighted avg      0.991     0.991     0.991      1692\n",
      "\n"
     ]
    },
    {
     "name": "stderr",
     "output_type": "stream",
     "text": [
      "C:\\Users\\Bartek\\AppData\\Roaming\\Python\\Python39\\site-packages\\sklearn\\linear_model\\_sag.py:350: ConvergenceWarning: The max_iter was reached which means the coef_ did not converge\n",
      "  warnings.warn(\n"
     ]
    }
   ],
   "source": [
    "# Szukamy najlepszego modelu przeszukując siatkę parametrów\n",
    "# Dla CountVectorizer: max_iter=5\n",
    "model_LR_best = LogisticRegression(random_state=42, max_iter=20)\n",
    "param_grid_LR = {'C': [0.1, 1, 10, 20, 50, 100],  # Odwrotność siły regularizacji\n",
    "                 'penalty': ['l1', 'l2'],  # Typ regularizacji\n",
    "                 'solver': ['liblinear', 'saga']}  # Algorytmy optymalizacyjne\n",
    "\n",
    "model_LR_best = grid_and_fit(model_LR_best, param_grid_LR, X_train_vectorized, y_train)\n",
    "y_test_pred_LR_best, f1_weighted_LR_best = predict_metrics(model_LR_best, X_train_vectorized, y_train, X_test_vectorized, y_test)"
   ]
  },
  {
   "cell_type": "markdown",
   "metadata": {},
   "source": [
    "#### 4.3. SVC"
   ]
  },
  {
   "cell_type": "code",
   "execution_count": 37,
   "metadata": {},
   "outputs": [
    {
     "name": "stdout",
     "output_type": "stream",
     "text": [
      "F1-Score (weighted) na uczącym: 0.9999\n",
      "F1-Score (weighted) na testowym: 0.9899\n",
      "Classification Report:\n",
      "               precision    recall  f1-score   support\n",
      "\n",
      "           0      0.995     0.997     0.996       634\n",
      "           1      0.982     0.998     0.990       662\n",
      "           2      0.990     0.965     0.977       198\n",
      "           3      1.000     0.965     0.982       198\n",
      "\n",
      "    accuracy                          0.990      1692\n",
      "   macro avg      0.992     0.981     0.986      1692\n",
      "weighted avg      0.990     0.990     0.990      1692\n",
      "\n"
     ]
    }
   ],
   "source": [
    "model_SVC = SVC(kernel='linear', C=1)\n",
    "model_SVC.fit(X_train_vectorized, y_train)\n",
    "\n",
    "y_test_pred_SVC, f1_weighted_SVC = predict_metrics(model_SVC, X_train_vectorized, y_train, X_test_vectorized, y_test)"
   ]
  },
  {
   "cell_type": "code",
   "execution_count": 38,
   "metadata": {},
   "outputs": [
    {
     "name": "stdout",
     "output_type": "stream",
     "text": [
      "Fitting 5 folds for each of 28 candidates, totalling 140 fits\n",
      "Najlepsze parametry: {'C': 1, 'kernel': 'sigmoid'}\n",
      "F1-Score (weighted) na uczącym: 0.9996\n",
      "F1-Score (weighted) na testowym: 0.9905\n",
      "Classification Report:\n",
      "               precision    recall  f1-score   support\n",
      "\n",
      "           0      0.995     0.997     0.996       634\n",
      "           1      0.982     0.998     0.990       662\n",
      "           2      0.995     0.970     0.982       198\n",
      "           3      1.000     0.965     0.982       198\n",
      "\n",
      "    accuracy                          0.991      1692\n",
      "   macro avg      0.993     0.982     0.988      1692\n",
      "weighted avg      0.991     0.991     0.991      1692\n",
      "\n"
     ]
    }
   ],
   "source": [
    "# Szukamy najlepszego modelu przeszukując siatkę parametrów\n",
    "model_SVC_best = SVC(kernel='linear')\n",
    "param_grid_SVC = {'C': [0.001, 0.005, 0.01, 0.05, 0.1, 0.5, 1],\n",
    "                  'kernel': ['linear', 'rbf', 'poly', 'sigmoid']}\n",
    "\n",
    "model_SVC_best = grid_and_fit(model_SVC_best, param_grid_SVC, X_train_vectorized, y_train)\n",
    "y_test_pred_SVC_best, f1_weighted_SVC_best = predict_metrics(model_SVC_best, X_train_vectorized, y_train, X_test_vectorized, y_test)"
   ]
  },
  {
   "cell_type": "markdown",
   "metadata": {},
   "source": [
    "#### 4.4. kNN"
   ]
  },
  {
   "cell_type": "code",
   "execution_count": 39,
   "metadata": {},
   "outputs": [
    {
     "name": "stdout",
     "output_type": "stream",
     "text": [
      "F1-Score (weighted) na uczącym: 0.6619\n",
      "F1-Score (weighted) na testowym: 0.6530\n",
      "Classification Report:\n",
      "               precision    recall  f1-score   support\n",
      "\n",
      "           0      0.990     0.921     0.954       634\n",
      "           1      0.600     0.997     0.749       662\n",
      "           2      0.000     0.000     0.000       198\n",
      "           3      1.000     0.010     0.020       198\n",
      "\n",
      "    accuracy                          0.736      1692\n",
      "   macro avg      0.647     0.482     0.431      1692\n",
      "weighted avg      0.723     0.736     0.653      1692\n",
      "\n"
     ]
    },
    {
     "name": "stderr",
     "output_type": "stream",
     "text": [
      "C:\\Users\\Bartek\\AppData\\Roaming\\Python\\Python39\\site-packages\\sklearn\\metrics\\_classification.py:1344: UndefinedMetricWarning: Precision and F-score are ill-defined and being set to 0.0 in labels with no predicted samples. Use `zero_division` parameter to control this behavior.\n",
      "  _warn_prf(average, modifier, msg_start, len(result))\n",
      "C:\\Users\\Bartek\\AppData\\Roaming\\Python\\Python39\\site-packages\\sklearn\\metrics\\_classification.py:1344: UndefinedMetricWarning: Precision and F-score are ill-defined and being set to 0.0 in labels with no predicted samples. Use `zero_division` parameter to control this behavior.\n",
      "  _warn_prf(average, modifier, msg_start, len(result))\n",
      "C:\\Users\\Bartek\\AppData\\Roaming\\Python\\Python39\\site-packages\\sklearn\\metrics\\_classification.py:1344: UndefinedMetricWarning: Precision and F-score are ill-defined and being set to 0.0 in labels with no predicted samples. Use `zero_division` parameter to control this behavior.\n",
      "  _warn_prf(average, modifier, msg_start, len(result))\n"
     ]
    }
   ],
   "source": [
    "model_kNN = KNeighborsClassifier(n_neighbors=4)\n",
    "model_kNN.fit(X_train_vectorized, y_train)\n",
    "\n",
    "y_test_pred_kNN, f1_weighted_kNN = predict_metrics(model_kNN, X_train_vectorized, y_train, X_test_vectorized, y_test)"
   ]
  },
  {
   "cell_type": "code",
   "execution_count": 40,
   "metadata": {},
   "outputs": [
    {
     "name": "stdout",
     "output_type": "stream",
     "text": [
      "Fitting 5 folds for each of 30 candidates, totalling 150 fits\n",
      "Najlepsze parametry: {'n_neighbors': 12}\n",
      "F1-Score (weighted) na uczącym: 0.9634\n",
      "F1-Score (weighted) na testowym: 0.9546\n",
      "Classification Report:\n",
      "               precision    recall  f1-score   support\n",
      "\n",
      "           0      0.967     0.984     0.976       634\n",
      "           1      0.929     0.994     0.961       662\n",
      "           2      0.987     0.742     0.847       198\n",
      "           3      0.995     0.955     0.974       198\n",
      "\n",
      "    accuracy                          0.956      1692\n",
      "   macro avg      0.970     0.919     0.939      1692\n",
      "weighted avg      0.958     0.956     0.955      1692\n",
      "\n"
     ]
    }
   ],
   "source": [
    "# Szukamy najlepszego modelu przeszukując siatkę parametrów\n",
    "model_kNN_best = KNeighborsClassifier()\n",
    "param_grid_kNN = {'n_neighbors': list(range(1, 31))}  # Przeszukujemy wartości od 1 do 30\n",
    "\n",
    "model_kNN_best = grid_and_fit(model_kNN_best, param_grid_kNN, X_train_vectorized, y_train)\n",
    "y_test_pred_kNN_best, f1_weighted_kNN_best = predict_metrics(model_kNN_best, X_train_vectorized, y_train, X_test_vectorized, y_test)"
   ]
  },
  {
   "cell_type": "markdown",
   "metadata": {},
   "source": [
    "#### 4.5. Ridge Classifier"
   ]
  },
  {
   "cell_type": "code",
   "execution_count": 41,
   "metadata": {},
   "outputs": [
    {
     "name": "stdout",
     "output_type": "stream",
     "text": [
      "F1-Score (weighted) na uczącym: 1.0000\n",
      "F1-Score (weighted) na testowym: 0.9869\n",
      "Classification Report:\n",
      "               precision    recall  f1-score   support\n",
      "\n",
      "           0      0.994     0.998     0.996       634\n",
      "           1      0.973     0.998     0.986       662\n",
      "           2      1.000     0.944     0.971       198\n",
      "           3      1.000     0.955     0.977       198\n",
      "\n",
      "    accuracy                          0.987      1692\n",
      "   macro avg      0.992     0.974     0.983      1692\n",
      "weighted avg      0.987     0.987     0.987      1692\n",
      "\n"
     ]
    }
   ],
   "source": [
    "model_RC = RidgeClassifier()\n",
    "model_RC.fit(X_train_vectorized, y_train)\n",
    "\n",
    "y_test_pred_RC, f1_weighted_RC = predict_metrics(model_RC, X_train_vectorized, y_train, X_test_vectorized, y_test)"
   ]
  },
  {
   "cell_type": "code",
   "execution_count": 42,
   "metadata": {},
   "outputs": [
    {
     "name": "stdout",
     "output_type": "stream",
     "text": [
      "Fitting 5 folds for each of 40 candidates, totalling 200 fits\n",
      "Najlepsze parametry: {'alpha': 1, 'solver': 'auto'}\n",
      "F1-Score (weighted) na uczącym: 1.0000\n",
      "F1-Score (weighted) na testowym: 0.9869\n",
      "Classification Report:\n",
      "               precision    recall  f1-score   support\n",
      "\n",
      "           0      0.994     0.998     0.996       634\n",
      "           1      0.973     0.998     0.986       662\n",
      "           2      1.000     0.944     0.971       198\n",
      "           3      1.000     0.955     0.977       198\n",
      "\n",
      "    accuracy                          0.987      1692\n",
      "   macro avg      0.992     0.974     0.983      1692\n",
      "weighted avg      0.987     0.987     0.987      1692\n",
      "\n"
     ]
    }
   ],
   "source": [
    "# Szukamy najlepszego modelu przeszukując siatkę parametrów\n",
    "model_RC_best = RidgeClassifier()\n",
    "param_grid_RC = {'alpha': [0.001, 0.01, 0.1, 1, 10, 20, 50, 100, 200, 500],  # Siła regularizacji\n",
    "                 'solver': ['auto', 'lsqr', 'sparse_cg', 'sag']}  # Algorytmy optymalizacji\n",
    "\n",
    "model_RC_best = grid_and_fit(model_RC_best, param_grid_RC, X_train_vectorized, y_train)\n",
    "y_test_pred_RC_best, f1_weighted_RC_best = predict_metrics(model_RC_best, X_train_vectorized, y_train, X_test_vectorized, y_test)"
   ]
  },
  {
   "cell_type": "markdown",
   "metadata": {},
   "source": [
    "### 5. Porównanie modeli"
   ]
  },
  {
   "cell_type": "code",
   "execution_count": 44,
   "metadata": {},
   "outputs": [
    {
     "name": "stdout",
     "output_type": "stream",
     "text": [
      "F1-Score (weighted)\n",
      "\n",
      "Model                   Default         Best\n",
      "----------------------------------------------\n",
      "Naive Bayes:         \t0.804 \t\t0.982\n",
      "Logistic Regression: \t0.9797 \t\t0.9911\n",
      "SVC:                 \t0.9899\t\t0.9905\n",
      "kNN:                 \t0.653\t\t0.9546\n",
      "Ridge Classifier:    \t0.9869 \t\t0.9869\n"
     ]
    }
   ],
   "source": [
    "print('F1-Score (weighted)\\n')\n",
    "print('Model', ' '*17, 'Default', ' '*7, 'Best')\n",
    "print('-'*46)\n",
    "print(f'Naive Bayes:         \\t{round(f1_weighted_NB, 4)} \\t\\t{round(f1_weighted_NB_best, 4)}')\n",
    "print(f'Logistic Regression: \\t{round(f1_weighted_LR, 4)} \\t\\t{round(f1_weighted_LR_best,  4)}')\n",
    "print(f'SVC:                 \\t{round(f1_weighted_SVC, 4)}\\t\\t{round(f1_weighted_SVC_best, 4)}')\n",
    "print(f'kNN:                 \\t{round(f1_weighted_kNN, 4)}\\t\\t{round(f1_weighted_kNN_best, 4)}')\n",
    "print(f'Ridge Classifier:    \\t{round(f1_weighted_RC, 4)} \\t\\t{round(f1_weighted_RC_best, 4)}')"
   ]
  },
  {
   "cell_type": "code",
   "execution_count": 45,
   "metadata": {},
   "outputs": [
    {
     "data": {
      "text/plain": [
       "<sklearn.metrics._plot.confusion_matrix.ConfusionMatrixDisplay at 0x25125db0ca0>"
      ]
     },
     "execution_count": 45,
     "metadata": {},
     "output_type": "execute_result"
    },
    {
     "data": {
      "image/png": "[encoded data removed]",
      "text/plain": [
       "<Figure size 640x480 with 2 Axes>"
      ]
     },
     "metadata": {},
     "output_type": "display_data"
    },
    {
     "data": {
      "image/png": "[encoded data removed]",
      "text/plain": [
       "<Figure size 640x480 with 2 Axes>"
      ]
     },
     "metadata": {},
     "output_type": "display_data"
    }
   ],
   "source": [
    "from sklearn.metrics import ConfusionMatrixDisplay\n",
    "\n",
    "ConfusionMatrixDisplay.from_estimator(model_LR_best, X_train_vectorized, y_train, display_labels=lables)\n",
    "ConfusionMatrixDisplay.from_estimator(model_LR_best, X_test_vectorized, y_test, display_labels=lables)"
   ]
  },
  {
   "cell_type": "markdown",
   "metadata": {},
   "source": [
    "### 6. Test modelu"
   ]
  },
  {
   "cell_type": "markdown",
   "metadata": {},
   "source": [
    "Przeprowadzenie testu na najlepszym modelu"
   ]
  },
  {
   "cell_type": "code",
   "execution_count": 46,
   "metadata": {},
   "outputs": [],
   "source": [
    "np.set_printoptions(suppress=True, precision=4)"
   ]
  },
  {
   "cell_type": "code",
   "execution_count": 47,
   "metadata": {},
   "outputs": [],
   "source": [
    "def test_modelu(zdanie, model):\n",
    "    sent = vectorizer.transform([preprocessing(zdanie, 'sentence')])\n",
    "    result = model.predict_proba(sent)\n",
    "\n",
    "    return result"
   ]
  },
  {
   "cell_type": "code",
   "execution_count": 48,
   "metadata": {},
   "outputs": [
    {
     "name": "stdout",
     "output_type": "stream",
     "text": [
      "       Hotele Medycyna Produkty Uniwersytet\n"
     ]
    },
    {
     "data": {
      "text/plain": [
       "array([[0.0395, 0.0062, 0.0005, 0.9538]])"
      ]
     },
     "execution_count": 48,
     "metadata": {},
     "output_type": "execute_result"
    }
   ],
   "source": [
    "sentences = 'Lekarz spóźnił się na wykład i zajęcia ponieważ zapomniał laptopa z hotelu.'\n",
    "\n",
    "print('       Hotele', 'Medycyna', 'Produkty', 'Uniwersytet')\n",
    "test_modelu(sentences, model_LR_best)"
   ]
  },
  {
   "cell_type": "code",
   "execution_count": null,
   "metadata": {},
   "outputs": [],
   "source": []
  }
 ],
 "metadata": {
  "kernelspec": {
   "display_name": "Python 3",
   "language": "python",
   "name": "python3"
  },
  "language_info": {
   "codemirror_mode": {
    "name": "ipython",
    "version": 3
   },
   "file_extension": ".py",
   "mimetype": "text/x-python",
   "name": "python",
   "nbconvert_exporter": "python",
   "pygments_lexer": "ipython3",
   "version": "3.9.13"
  }
 },
 "nbformat": 4,
 "nbformat_minor": 2
}
